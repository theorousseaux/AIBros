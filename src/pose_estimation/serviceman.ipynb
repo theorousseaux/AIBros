{
 "cells": [
  {
   "cell_type": "markdown",
   "metadata": {},
   "source": [
    "# Import "
   ]
  },
  {
   "cell_type": "code",
   "execution_count": 15,
   "metadata": {},
   "outputs": [],
   "source": [
    "from ultralytics import YOLO\n",
    "import numpy as np"
   ]
  },
  {
   "cell_type": "code",
   "execution_count": 16,
   "metadata": {},
   "outputs": [],
   "source": [
    "# Load a model\n",
    "model = YOLO(\"yolo11m-pose.pt\")  # load an official model\n",
    "\n",
    "id_joints_dict = {0: 'nose',\n",
    "        1: 'left_eye',\n",
    "        2: 'right_eye',\n",
    "        3: 'left_ear',\n",
    "        4: 'right_ear',\n",
    "        5: 'left_shoulder',\n",
    "        6: 'right_shoulder',\n",
    "        7: 'left_elbow',\n",
    "        8: 'right_elbow',\n",
    "        9: 'left_wrist',\n",
    "        10: 'right_wrist',\n",
    "        11: 'left_hip',\n",
    "        12: 'right_hip',\n",
    "        13: 'left_knee',\n",
    "        14: 'right_knee',\n",
    "        15: 'left_ankle',\n",
    "        16: 'right_ankle'}\n",
    "joints_id_dict = {v: k for k, v in id_joints_dict.items()}"
   ]
  },
  {
   "cell_type": "code",
   "execution_count": 17,
   "metadata": {},
   "outputs": [
    {
     "name": "stdout",
     "output_type": "stream",
     "text": [
      "\n",
      "image 1/1 /Users/theorousseaux/Projets/ML/AIBros/src/pose_estimation/Photo_CV.jpeg: 640x448 1 person, 138.3ms\n",
      "Speed: 1.4ms preprocess, 138.3ms inference, 0.3ms postprocess per image at shape (1, 3, 640, 448)\n"
     ]
    }
   ],
   "source": [
    "result = model(source='Photo_CV.jpeg')"
   ]
  },
  {
   "cell_type": "code",
   "execution_count": 18,
   "metadata": {},
   "outputs": [
    {
     "data": {
      "text/plain": [
       "tensor([[[7.6010e+02, 6.5012e+02, 9.9908e-01],\n",
       "         [8.2045e+02, 5.7662e+02, 9.9375e-01],\n",
       "         [6.7596e+02, 5.7085e+02, 9.9805e-01],\n",
       "         [8.9305e+02, 6.1906e+02, 7.2131e-01],\n",
       "         [5.4375e+02, 6.1457e+02, 9.7706e-01],\n",
       "         [1.0185e+03, 1.0452e+03, 9.9743e-01],\n",
       "         [3.4511e+02, 1.0555e+03, 9.9776e-01],\n",
       "         [1.0497e+03, 1.5564e+03, 9.6296e-01],\n",
       "         [1.6737e+02, 1.6338e+03, 9.6138e-01],\n",
       "         [1.0852e+03, 1.9602e+03, 8.6013e-01],\n",
       "         [3.0408e+02, 2.0706e+03, 8.7280e-01],\n",
       "         [9.4859e+02, 2.0147e+03, 7.8707e-01],\n",
       "         [4.9588e+02, 2.0343e+03, 7.8319e-01],\n",
       "         [0.0000e+00, 0.0000e+00, 1.1524e-02],\n",
       "         [0.0000e+00, 0.0000e+00, 1.0064e-02],\n",
       "         [0.0000e+00, 0.0000e+00, 4.4304e-04],\n",
       "         [0.0000e+00, 0.0000e+00, 3.8715e-04]]])"
      ]
     },
     "execution_count": 18,
     "metadata": {},
     "output_type": "execute_result"
    }
   ],
   "source": [
    "result[0].keypoints.data"
   ]
  },
  {
   "cell_type": "code",
   "execution_count": 19,
   "metadata": {},
   "outputs": [],
   "source": [
    "def calculate_boxe_area(box):\n",
    "    return (box[2] - box[0]) * (box[3] - box[1])"
   ]
  },
  {
   "cell_type": "code",
   "execution_count": 20,
   "metadata": {},
   "outputs": [],
   "source": [
    "def calculate_angle(a, b, c):\n",
    "\n",
    "    \"\"\"\n",
    "    Calculates the angle between three joints.\n",
    "\n",
    "    Args:\n",
    "        a (tuple): coordinates of the first joint\n",
    "        b (tuple): coordinates of the second joint\n",
    "        c (tuple): coordinates of the third joint\n",
    "\n",
    "    Returns:\n",
    "        angle (float): angle between the three joints\n",
    "    \"\"\"\n",
    "    \n",
    "    ba = np.array(a) - np.array(b)\n",
    "    bc = np.array(c) - np.array(b)\n",
    "\n",
    "    cosine_angle = np.dot(ba, bc) / (np.linalg.norm(ba) * np.linalg.norm(bc))\n",
    "    angle = np.arccos(cosine_angle)\n",
    "\n",
    "    return np.degrees(angle)\n",
    "\n",
    "def calculate_angle_from_joints(joint_a, joint_b, joint_c, keypoints):\n",
    "    \"\"\"\n",
    "\n",
    "    Calculates the angle between three joints.\n",
    "\n",
    "    Args:\n",
    "        joint_a (str): name of the first joint\n",
    "        joint_b (str): name of the second joint\n",
    "        joint_c (str): name of the third joint\n",
    "        keypoints (list): list of keypoints\n",
    "\n",
    "    Returns:\n",
    "        angle (float): angle between the three joints\n",
    "    \"\"\"\n",
    "\n",
    "    a = keypoints[joints_id_dict[joint_a]]\n",
    "    b = keypoints[joints_id_dict[joint_b]]\n",
    "    c = keypoints[joints_id_dict[joint_c]]\n",
    "    return calculate_angle(a, b, c)"
   ]
  },
  {
   "cell_type": "code",
   "execution_count": 21,
   "metadata": {},
   "outputs": [
    {
     "data": {
      "text/plain": [
       "178.4771"
      ]
     },
     "execution_count": 21,
     "metadata": {},
     "output_type": "execute_result"
    }
   ],
   "source": [
    "calculate_angle_from_joints('left_wrist', 'left_elbow', 'left_shoulder', result[0].keypoints.data[0])"
   ]
  },
  {
   "cell_type": "code",
   "execution_count": 22,
   "metadata": {},
   "outputs": [],
   "source": [
    "result[0].show()"
   ]
  },
  {
   "cell_type": "code",
   "execution_count": 24,
   "metadata": {},
   "outputs": [
    {
     "data": {
      "text/plain": [
       "'./result.jpg'"
      ]
     },
     "execution_count": 24,
     "metadata": {},
     "output_type": "execute_result"
    }
   ],
   "source": [
    "result[0].save(filename=\"./result.jpg\")"
   ]
  }
 ],
 "metadata": {
  "kernelspec": {
   "display_name": "venv_aibros",
   "language": "python",
   "name": "python3"
  },
  "language_info": {
   "codemirror_mode": {
    "name": "ipython",
    "version": 3
   },
   "file_extension": ".py",
   "mimetype": "text/x-python",
   "name": "python",
   "nbconvert_exporter": "python",
   "pygments_lexer": "ipython3",
   "version": "3.10.14"
  }
 },
 "nbformat": 4,
 "nbformat_minor": 2
}
