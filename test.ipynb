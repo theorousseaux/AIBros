{
 "cells": [
  {
   "cell_type": "code",
   "execution_count": 7,
   "metadata": {},
   "outputs": [],
   "source": [
    "import pandas as pd \n",
    "import seaborn as sns\n",
    "from src.workout_log.perf_analysis import *"
   ]
  },
  {
   "cell_type": "code",
   "execution_count": 2,
   "metadata": {},
   "outputs": [],
   "source": [
    "df = pd.read_csv(\"data/workout_logs/toubounou.csv\", sep=\",\")"
   ]
  },
  {
   "cell_type": "code",
   "execution_count": 9,
   "metadata": {},
   "outputs": [],
   "source": [
    "df[\"Date\"] = pd.to_datetime(df['Date'], format='%d-%m-%Y')"
   ]
  },
  {
   "cell_type": "code",
   "execution_count": 4,
   "metadata": {},
   "outputs": [
    {
     "data": {
      "text/html": [
       "<div>\n",
       "<style scoped>\n",
       "    .dataframe tbody tr th:only-of-type {\n",
       "        vertical-align: middle;\n",
       "    }\n",
       "\n",
       "    .dataframe tbody tr th {\n",
       "        vertical-align: top;\n",
       "    }\n",
       "\n",
       "    .dataframe thead th {\n",
       "        text-align: right;\n",
       "    }\n",
       "</style>\n",
       "<table border=\"1\" class=\"dataframe\">\n",
       "  <thead>\n",
       "    <tr style=\"text-align: right;\">\n",
       "      <th></th>\n",
       "      <th>Date</th>\n",
       "      <th>Workout name</th>\n",
       "      <th>Workout type</th>\n",
       "      <th>Set number</th>\n",
       "      <th>Exercise name</th>\n",
       "      <th>Equipment</th>\n",
       "      <th>Execution mode</th>\n",
       "      <th>Number of repetitions</th>\n",
       "      <th>Charge (kg)</th>\n",
       "      <th>Rest time (sec)</th>\n",
       "      <th>Remarks</th>\n",
       "      <th>dt</th>\n",
       "    </tr>\n",
       "  </thead>\n",
       "  <tbody>\n",
       "    <tr>\n",
       "      <th>4825</th>\n",
       "      <td>13-09-2024</td>\n",
       "      <td>FP avec Enora</td>\n",
       "      <td>LOWER BODY</td>\n",
       "      <td>1</td>\n",
       "      <td>Hack Squat</td>\n",
       "      <td>Machine</td>\n",
       "      <td>bilateral</td>\n",
       "      <td>10.0</td>\n",
       "      <td>60.0</td>\n",
       "      <td>NaN</td>\n",
       "      <td>NaN</td>\n",
       "      <td>2024-09-13</td>\n",
       "    </tr>\n",
       "    <tr>\n",
       "      <th>4826</th>\n",
       "      <td>13-09-2024</td>\n",
       "      <td>FP avec Enora</td>\n",
       "      <td>LOWER BODY</td>\n",
       "      <td>2</td>\n",
       "      <td>Hack Squat</td>\n",
       "      <td>Machine</td>\n",
       "      <td>bilateral</td>\n",
       "      <td>10.0</td>\n",
       "      <td>60.0</td>\n",
       "      <td>NaN</td>\n",
       "      <td>NaN</td>\n",
       "      <td>2024-09-13</td>\n",
       "    </tr>\n",
       "    <tr>\n",
       "      <th>4827</th>\n",
       "      <td>13-09-2024</td>\n",
       "      <td>FP avec Enora</td>\n",
       "      <td>LOWER BODY</td>\n",
       "      <td>3</td>\n",
       "      <td>Hack Squat</td>\n",
       "      <td>Machine</td>\n",
       "      <td>bilateral</td>\n",
       "      <td>10.0</td>\n",
       "      <td>60.0</td>\n",
       "      <td>NaN</td>\n",
       "      <td>NaN</td>\n",
       "      <td>2024-09-13</td>\n",
       "    </tr>\n",
       "    <tr>\n",
       "      <th>4828</th>\n",
       "      <td>13-09-2024</td>\n",
       "      <td>FP avec Enora</td>\n",
       "      <td>LOWER BODY</td>\n",
       "      <td>4</td>\n",
       "      <td>Hack Squat</td>\n",
       "      <td>Machine</td>\n",
       "      <td>bilateral</td>\n",
       "      <td>10.0</td>\n",
       "      <td>60.0</td>\n",
       "      <td>NaN</td>\n",
       "      <td>NaN</td>\n",
       "      <td>2024-09-13</td>\n",
       "    </tr>\n",
       "    <tr>\n",
       "      <th>4829</th>\n",
       "      <td>13-09-2024</td>\n",
       "      <td>FP avec Enora</td>\n",
       "      <td>LOWER BODY</td>\n",
       "      <td>1</td>\n",
       "      <td>Romanian Deadlift</td>\n",
       "      <td>Barbell</td>\n",
       "      <td>bilateral</td>\n",
       "      <td>12.0</td>\n",
       "      <td>80.0</td>\n",
       "      <td>NaN</td>\n",
       "      <td>NaN</td>\n",
       "      <td>2024-09-13</td>\n",
       "    </tr>\n",
       "    <tr>\n",
       "      <th>...</th>\n",
       "      <td>...</td>\n",
       "      <td>...</td>\n",
       "      <td>...</td>\n",
       "      <td>...</td>\n",
       "      <td>...</td>\n",
       "      <td>...</td>\n",
       "      <td>...</td>\n",
       "      <td>...</td>\n",
       "      <td>...</td>\n",
       "      <td>...</td>\n",
       "      <td>...</td>\n",
       "      <td>...</td>\n",
       "    </tr>\n",
       "    <tr>\n",
       "      <th>5177</th>\n",
       "      <td>31-10-2024</td>\n",
       "      <td>LOWER</td>\n",
       "      <td>LOWER BODY</td>\n",
       "      <td>3</td>\n",
       "      <td>Leg Extension</td>\n",
       "      <td>Machine</td>\n",
       "      <td>bilateral</td>\n",
       "      <td>12.0</td>\n",
       "      <td>55.0</td>\n",
       "      <td>NaN</td>\n",
       "      <td>NaN</td>\n",
       "      <td>2024-10-31</td>\n",
       "    </tr>\n",
       "    <tr>\n",
       "      <th>5178</th>\n",
       "      <td>31-10-2024</td>\n",
       "      <td>LOWER</td>\n",
       "      <td>LOWER BODY</td>\n",
       "      <td>4</td>\n",
       "      <td>Leg Extension</td>\n",
       "      <td>Machine</td>\n",
       "      <td>bilateral</td>\n",
       "      <td>12.0</td>\n",
       "      <td>55.0</td>\n",
       "      <td>NaN</td>\n",
       "      <td>NaN</td>\n",
       "      <td>2024-10-31</td>\n",
       "    </tr>\n",
       "    <tr>\n",
       "      <th>5179</th>\n",
       "      <td>31-10-2024</td>\n",
       "      <td>LOWER</td>\n",
       "      <td>LOWER BODY</td>\n",
       "      <td>1</td>\n",
       "      <td>Calf Raise</td>\n",
       "      <td>Kettlebell</td>\n",
       "      <td>unilateral</td>\n",
       "      <td>12.0</td>\n",
       "      <td>16.0</td>\n",
       "      <td>NaN</td>\n",
       "      <td>NaN</td>\n",
       "      <td>2024-10-31</td>\n",
       "    </tr>\n",
       "    <tr>\n",
       "      <th>5180</th>\n",
       "      <td>31-10-2024</td>\n",
       "      <td>LOWER</td>\n",
       "      <td>LOWER BODY</td>\n",
       "      <td>2</td>\n",
       "      <td>Calf Raise</td>\n",
       "      <td>Kettlebell</td>\n",
       "      <td>unilateral</td>\n",
       "      <td>12.0</td>\n",
       "      <td>16.0</td>\n",
       "      <td>NaN</td>\n",
       "      <td>NaN</td>\n",
       "      <td>2024-10-31</td>\n",
       "    </tr>\n",
       "    <tr>\n",
       "      <th>5181</th>\n",
       "      <td>31-10-2024</td>\n",
       "      <td>LOWER</td>\n",
       "      <td>LOWER BODY</td>\n",
       "      <td>3</td>\n",
       "      <td>Calf Raise</td>\n",
       "      <td>Kettlebell</td>\n",
       "      <td>unilateral</td>\n",
       "      <td>12.0</td>\n",
       "      <td>16.0</td>\n",
       "      <td>NaN</td>\n",
       "      <td>NaN</td>\n",
       "      <td>2024-10-31</td>\n",
       "    </tr>\n",
       "  </tbody>\n",
       "</table>\n",
       "<p>109 rows × 12 columns</p>\n",
       "</div>"
      ],
      "text/plain": [
       "            Date   Workout name Workout type  Set number       Exercise name  \\\n",
       "4825  13-09-2024  FP avec Enora   LOWER BODY            1         Hack Squat   \n",
       "4826  13-09-2024  FP avec Enora   LOWER BODY            2         Hack Squat   \n",
       "4827  13-09-2024  FP avec Enora   LOWER BODY            3         Hack Squat   \n",
       "4828  13-09-2024  FP avec Enora   LOWER BODY            4         Hack Squat   \n",
       "4829  13-09-2024  FP avec Enora   LOWER BODY            1  Romanian Deadlift   \n",
       "...          ...            ...          ...          ...                ...   \n",
       "5177  31-10-2024          LOWER   LOWER BODY            3      Leg Extension   \n",
       "5178  31-10-2024          LOWER   LOWER BODY            4      Leg Extension   \n",
       "5179  31-10-2024          LOWER   LOWER BODY            1         Calf Raise   \n",
       "5180  31-10-2024          LOWER   LOWER BODY            2         Calf Raise   \n",
       "5181  31-10-2024          LOWER   LOWER BODY            3         Calf Raise   \n",
       "\n",
       "       Equipment Execution mode  Number of repetitions  Charge (kg)  \\\n",
       "4825     Machine      bilateral                   10.0         60.0   \n",
       "4826     Machine      bilateral                   10.0         60.0   \n",
       "4827     Machine      bilateral                   10.0         60.0   \n",
       "4828     Machine      bilateral                   10.0         60.0   \n",
       "4829     Barbell      bilateral                   12.0         80.0   \n",
       "...          ...            ...                    ...          ...   \n",
       "5177     Machine      bilateral                   12.0         55.0   \n",
       "5178     Machine      bilateral                   12.0         55.0   \n",
       "5179  Kettlebell     unilateral                   12.0         16.0   \n",
       "5180  Kettlebell     unilateral                   12.0         16.0   \n",
       "5181  Kettlebell     unilateral                   12.0         16.0   \n",
       "\n",
       "      Rest time (sec) Remarks         dt  \n",
       "4825              NaN     NaN 2024-09-13  \n",
       "4826              NaN     NaN 2024-09-13  \n",
       "4827              NaN     NaN 2024-09-13  \n",
       "4828              NaN     NaN 2024-09-13  \n",
       "4829              NaN     NaN 2024-09-13  \n",
       "...               ...     ...        ...  \n",
       "5177              NaN     NaN 2024-10-31  \n",
       "5178              NaN     NaN 2024-10-31  \n",
       "5179              NaN     NaN 2024-10-31  \n",
       "5180              NaN     NaN 2024-10-31  \n",
       "5181              NaN     NaN 2024-10-31  \n",
       "\n",
       "[109 rows x 12 columns]"
      ]
     },
     "execution_count": 4,
     "metadata": {},
     "output_type": "execute_result"
    }
   ],
   "source": [
    "df[(df['dt'] >= \"2024-09-01\") & (df[\"Workout type\"] == \"LOWER BODY\")]"
   ]
  },
  {
   "cell_type": "code",
   "execution_count": 10,
   "metadata": {},
   "outputs": [],
   "source": [
    "squat_perf = modified_exercise_tracker(df, exercise_name=\"Squat\", equipment=\"Barbell\")"
   ]
  },
  {
   "cell_type": "code",
   "execution_count": 11,
   "metadata": {},
   "outputs": [
    {
     "data": {
      "text/html": [
       "<div>\n",
       "<style scoped>\n",
       "    .dataframe tbody tr th:only-of-type {\n",
       "        vertical-align: middle;\n",
       "    }\n",
       "\n",
       "    .dataframe tbody tr th {\n",
       "        vertical-align: top;\n",
       "    }\n",
       "\n",
       "    .dataframe thead th {\n",
       "        text-align: right;\n",
       "    }\n",
       "</style>\n",
       "<table border=\"1\" class=\"dataframe\">\n",
       "  <thead>\n",
       "    <tr style=\"text-align: right;\">\n",
       "      <th></th>\n",
       "      <th>Date</th>\n",
       "      <th>Best Weight</th>\n",
       "      <th>Number of Reps</th>\n",
       "    </tr>\n",
       "  </thead>\n",
       "  <tbody>\n",
       "    <tr>\n",
       "      <th>0</th>\n",
       "      <td>2022-09-24</td>\n",
       "      <td>75.0</td>\n",
       "      <td>8.0</td>\n",
       "    </tr>\n",
       "    <tr>\n",
       "      <th>1</th>\n",
       "      <td>2022-10-01</td>\n",
       "      <td>75.0</td>\n",
       "      <td>8.0</td>\n",
       "    </tr>\n",
       "    <tr>\n",
       "      <th>2</th>\n",
       "      <td>2022-12-01</td>\n",
       "      <td>75.0</td>\n",
       "      <td>6.0</td>\n",
       "    </tr>\n",
       "    <tr>\n",
       "      <th>3</th>\n",
       "      <td>2022-12-11</td>\n",
       "      <td>75.0</td>\n",
       "      <td>8.0</td>\n",
       "    </tr>\n",
       "    <tr>\n",
       "      <th>4</th>\n",
       "      <td>2022-12-29</td>\n",
       "      <td>100.0</td>\n",
       "      <td>5.0</td>\n",
       "    </tr>\n",
       "  </tbody>\n",
       "</table>\n",
       "</div>"
      ],
      "text/plain": [
       "        Date  Best Weight  Number of Reps\n",
       "0 2022-09-24         75.0             8.0\n",
       "1 2022-10-01         75.0             8.0\n",
       "2 2022-12-01         75.0             6.0\n",
       "3 2022-12-11         75.0             8.0\n",
       "4 2022-12-29        100.0             5.0"
      ]
     },
     "execution_count": 11,
     "metadata": {},
     "output_type": "execute_result"
    }
   ],
   "source": [
    "squat_perf.head()"
   ]
  },
  {
   "cell_type": "code",
   "execution_count": 13,
   "metadata": {},
   "outputs": [],
   "source": [
    "import matplotlib.pyplot as plt"
   ]
  },
  {
   "cell_type": "code",
   "execution_count": null,
   "metadata": {},
   "outputs": [
    {
     "data": {
      "text/plain": [
       "(array([0. , 0.2, 0.4, 0.6, 0.8, 1. ]),\n",
       " [Text(0.0, 0, '0.0'),\n",
       "  Text(0.2, 0, '0.2'),\n",
       "  Text(0.4, 0, '0.4'),\n",
       "  Text(0.6000000000000001, 0, '0.6'),\n",
       "  Text(0.8, 0, '0.8'),\n",
       "  Text(1.0, 0, '1.0')])"
      ]
     },
     "execution_count": 14,
     "metadata": {},
     "output_type": "execute_result"
    },
    {
     "data": {
      "image/png": "[encoded data removed]",
      "text/plain": [
       "<Figure size 640x480 with 1 Axes>"
      ]
     },
     "metadata": {},
     "output_type": "display_data"
    }
   ],
   "source": []
  },
  {
   "cell_type": "code",
   "execution_count": 24,
   "metadata": {},
   "outputs": [
    {
     "data": {
      "text/plain": [
       "<Axes: xlabel='Date', ylabel='Best Weight'>"
      ]
     },
     "execution_count": 24,
     "metadata": {},
     "output_type": "execute_result"
    },
    {
     "data": {
      "image/png": "[encoded data removed]",
      "text/plain": [
       "<Figure size 640x480 with 1 Axes>"
      ]
     },
     "metadata": {},
     "output_type": "display_data"
    }
   ],
   "source": [
    "plt.xticks(rotation=90)\n",
    "sns.lineplot(data=modified_exercise_tracker(df, exercise_name=\"Overhead Press\", equipment=\"Barbell\"), x=\"Date\", y=\"Best Weight\" )"
   ]
  },
  {
   "cell_type": "markdown",
   "metadata": {},
   "source": []
  },
  {
   "cell_type": "code",
   "execution_count": null,
   "metadata": {},
   "outputs": [],
   "source": []
  }
 ],
 "metadata": {
  "kernelspec": {
   "display_name": "env",
   "language": "python",
   "name": "env"
  },
  "language_info": {
   "codemirror_mode": {
    "name": "ipython",
    "version": 3
   },
   "file_extension": ".py",
   "mimetype": "text/x-python",
   "name": "python",
   "nbconvert_exporter": "python",
   "pygments_lexer": "ipython3",
   "version": "3.11.9"
  }
 },
 "nbformat": 4,
 "nbformat_minor": 2
}
